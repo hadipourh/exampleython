{
 "cells": [
  {
   "cell_type": "markdown",
   "metadata": {},
   "source": [
    "# Python Examples\n",
    "This repository consists of some python examples for who want to learn advanced Python programming."
   ]
  },
  {
   "cell_type": "markdown",
   "metadata": {},
   "source": [
    "# Contents\n",
    "1 - [Chapter 1: Introduction](#chapter1)\n",
    "\n",
    "* [Problem 1-1](#problem1-1)\n",
    "* [Problem 2-1](#problem2-1)\n",
    "* [Problem 3-1](#problem3-1)\n",
    "* [Problem 4-1](#problem4-1)\n",
    "---\n",
    "2 - [Chapter 2: Object-Oriented Programming (OOP) With Python](#chapter2)\n",
    "\n",
    "* [Problem 1-2](#problem1-2)\n",
    "* [Problem 2-2](#problem2-2)\n",
    "\n",
    "3 - [Chapter 3: Parallel Programming in Python](#parallel_programming)"
   ]
  },
  {
   "cell_type": "markdown",
   "metadata": {},
   "source": [
    "<a name=\"chapter1\"></a>\n",
    "# Chapter 1 - Introduction"
   ]
  },
  {
   "cell_type": "markdown",
   "metadata": {},
   "source": [
    "<a name=\"problem1-1\"></a>\n",
    "## Problem 1-1"
   ]
  },
  {
   "cell_type": "markdown",
   "metadata": {},
   "source": [
    "Write a Python program reading ten integer numbers from terminal, and output the number which has the maximum number of distinct prime divisors, and it's number of disticnt prime divisiors too. If more than one numbers have such a property, it must does that for one which is the maximum. \n",
    "\n",
    "\n",
    "Sample input: \n",
    "```\n",
    "123\n",
    "43\n",
    "54\n",
    "12\n",
    "76\n",
    "84\n",
    "98\n",
    "678\n",
    "543\n",
    "231\n",
    "```\n",
    "\n",
    "Output:\n",
    "```\n",
    "678 3\n",
    "```"
   ]
  },
  {
   "cell_type": "code",
   "execution_count": null,
   "metadata": {},
   "outputs": [],
   "source": [
    "def num_of_distinct_prime_divisors(n):\n",
    "    d = 2\n",
    "    distinct_divisors = []\n",
    "    while (n != 1):\n",
    "        if (n % d == 0):\n",
    "            n //= d\n",
    "            if d not in distinct_divisors:\n",
    "                distinct_divisors.append(d)\n",
    "        else:\n",
    "            d += 1\n",
    "    return len(distinct_divisors)\n",
    "\n",
    "input_data = int(input())\n",
    "output, output_ndivs = input_data, num_of_distinct_prime_divisors(input_data)\n",
    "for i in range(9):\n",
    "    input_data = int(input())\n",
    "    temp = num_of_distinct_prime_divisors(input_data)\n",
    "    if (temp > output_ndivs):\n",
    "        output, output_ndivs = input_data, temp\n",
    "    elif (temp == output_ndivs):\n",
    "        if (input_data > output):\n",
    "            output = input_data\n",
    "print(output, output_ndivs)"
   ]
  },
  {
   "cell_type": "markdown",
   "metadata": {},
   "source": [
    "<a name=\"problem2-1\"></a>\n",
    "## Problem 2-1"
   ]
  },
  {
   "cell_type": "markdown",
   "metadata": {},
   "source": [
    "The group B of 2018 FIFA world cup consisted of Iran, Portugal, Spain, and Morocco. The results of the mathces can be found [here](https://en.wikipedia.org/wiki/2018_FIFA_World_Cup_Group_B). \n",
    "Write a Python program to receive the results of the matches, and then compute the number of wins, losts, and the goal differences, and point of each team, and finally print out the name of each team, and the computed paramaters in front of it in a seperate line, where the output must be ordered based on the points, and if the points are the same, they must be ordered based on the number of wins, and if the number of wins are the same too, they must be orderd in lexicographic order. It is assumed that the inputs are given based on the following order:\n",
    "\n",
    "```\n",
    "Iran-Spain\n",
    "Iran-Portugal\n",
    "Iran-Morocco\n",
    "Spain-Portugal\n",
    "Spain-Morocco\n",
    "Portugal-Morocco\n",
    "```\n",
    "\n",
    "Sample Input: \n",
    "```\n",
    "2-2\n",
    "2-1\n",
    "1-2\n",
    "2-2\n",
    "3-1\n",
    "2-1\n",
    "```\n",
    "Sample Output:\n",
    "```\n",
    "Spain  wins:1 , loses:0 , draws:2 , goal difference:2 , points:5\n",
    "Iran  wins:1 , loses:1 , draws:1 , goal difference:0 , points:4\n",
    "Portugal  wins:1 , loses:1 , draws:1 , goal difference:0 , points:4\n",
    "Morocco  wins:1 , loses:2 , draws:0 , goal difference:-2 , points:3\n",
    "```"
   ]
  },
  {
   "cell_type": "code",
   "execution_count": null,
   "metadata": {},
   "outputs": [],
   "source": [
    "from operator import itemgetter\n",
    "list_of_teams = [{} for i in range(4)]\n",
    "list_of_teams[0][\"name\"] = \"Iran\"\n",
    "list_of_teams[1][\"name\"] = \"Spain\"\n",
    "list_of_teams[2][\"name\"] = \"Portugal\"\n",
    "list_of_teams[3][\"name\"] = \"Morocco\"\n",
    "game_schedule = [[i, j] for i in range(3) for j in range(i + 1, 4)]\n",
    "for i in range(6):\n",
    "    result = input()    \n",
    "    result = result.split(\"-\")    \n",
    "    result = list(map(int, result))\n",
    "    list_of_teams[game_schedule[i][0]][\"goals_for\"] = list_of_teams[game_schedule[i][0]].get(\"goals_for\", 0) + result[0]    \n",
    "    list_of_teams[game_schedule[i][0]][\"goals_against\"] = list_of_teams[game_schedule[i][0]].get(\"goals_against\", 0) + result[1]    \n",
    "    list_of_teams[game_schedule[i][1]][\"goals_for\"] = list_of_teams[game_schedule[i][1]].get(\"goals_for\", 0) + result[1]    \n",
    "    list_of_teams[game_schedule[i][1]][\"goals_against\"] = list_of_teams[game_schedule[i][1]].get(\"goals_against\", 0) + result[0]    \n",
    "    if result[0] > result[1]:\n",
    "        list_of_teams[game_schedule[i][0]][\"wins\"] = list_of_teams[game_schedule[i][0]].get(\"wins\", 0) + 1\n",
    "        list_of_teams[game_schedule[i][1]][\"wins\"] = list_of_teams[game_schedule[i][1]].get(\"wins\", 0) + 0\n",
    "        list_of_teams[game_schedule[i][1]][\"losts\"] = list_of_teams[game_schedule[i][1]].get(\"losts\", 0) + 1\n",
    "        list_of_teams[game_schedule[i][0]][\"losts\"] = list_of_teams[game_schedule[i][0]].get(\"losts\", 0) + 0\n",
    "        list_of_teams[game_schedule[i][0]][\"draws\"] = list_of_teams[game_schedule[i][0]].get(\"draws\", 0) + 0\n",
    "        list_of_teams[game_schedule[i][1]][\"draws\"] = list_of_teams[game_schedule[i][1]].get(\"draws\", 0) + 0\n",
    "    elif result[1] > result[0]:\n",
    "        list_of_teams[game_schedule[i][1]][\"wins\"] = list_of_teams[game_schedule[i][1]].get(\"wins\", 0) + 1\n",
    "        list_of_teams[game_schedule[i][0]][\"wins\"] = list_of_teams[game_schedule[i][0]].get(\"wins\", 0) + 0\n",
    "        list_of_teams[game_schedule[i][0]][\"losts\"] = list_of_teams[game_schedule[i][0]].get(\"losts\", 0) + 1\n",
    "        list_of_teams[game_schedule[i][1]][\"losts\"] = list_of_teams[game_schedule[i][1]].get(\"losts\", 0) + 0\n",
    "        list_of_teams[game_schedule[i][0]][\"draws\"] = list_of_teams[game_schedule[i][0]].get(\"draws\", 0) + 0\n",
    "        list_of_teams[game_schedule[i][1]][\"draws\"] = list_of_teams[game_schedule[i][1]].get(\"draws\", 0) + 0\n",
    "    else:\n",
    "        list_of_teams[game_schedule[i][0]][\"draws\"] = list_of_teams[game_schedule[i][0]].get(\"draws\", 0) + 1\n",
    "        list_of_teams[game_schedule[i][1]][\"draws\"] = list_of_teams[game_schedule[i][1]].get(\"draws\", 0) + 1\n",
    "        list_of_teams[game_schedule[i][1]][\"wins\"] = list_of_teams[game_schedule[i][1]].get(\"wins\", 0) + 0\n",
    "        list_of_teams[game_schedule[i][0]][\"wins\"] = list_of_teams[game_schedule[i][0]].get(\"wins\", 0) + 0\n",
    "        list_of_teams[game_schedule[i][0]][\"losts\"] = list_of_teams[game_schedule[i][0]].get(\"losts\", 0) + 0\n",
    "        list_of_teams[game_schedule[i][1]][\"losts\"] = list_of_teams[game_schedule[i][1]].get(\"losts\", 0) + 0\n",
    "for team in list_of_teams:\n",
    "    team[\"goal difference\"] = team[\"goals_for\"] - team[\"goals_against\"]\n",
    "    team[\"points\"] = 3*team[\"wins\"] + team[\"draws\"]\n",
    "list_of_teams = sorted(list_of_teams, key = itemgetter(\"points\", \"wins\"), reverse = True)\n",
    "team_points_and_wins = lambda x : (x[\"points\"], x[\"wins\"])\n",
    "###### This part might be reduced ###\n",
    "target_index = []\n",
    "for i in range(3):\n",
    "    if (team_points_and_wins(list_of_teams[i]) == team_points_and_wins(list_of_teams[i + 1])):\n",
    "        target_index.append(i)\n",
    "if target_index != []:\n",
    "    part1 = list_of_teams[0 : target_index[0]]\n",
    "    part2 = sorted(list_of_teams[target_index[0] : target_index[-1] + 2], key = itemgetter(\"name\"))\n",
    "    if (target_index[-1] + 2 < 4):\n",
    "        part3 = list_of_teams[target_index[-1] + 2 : 5]\n",
    "        list_of_teams = part1 + part2 + part3\n",
    "    else:\n",
    "        list_of_teams = part1 + part2\n",
    "#####################################\n",
    "for team in list_of_teams:\n",
    "    print(\"%s  wins:%d , loses:%d , draws:%d , goal difference:%d , points:%d\" \\\n",
    "          % (team[\"name\"], team[\"wins\"], team[\"losts\"], team[\"draws\"], team[\"goal difference\"], team[\"points\"]))"
   ]
  },
  {
   "cell_type": "markdown",
   "metadata": {},
   "source": [
    "<a name=\"problem3-1\"></a>\n",
    "## Problem 3-1"
   ]
  },
  {
   "cell_type": "markdown",
   "metadata": {},
   "source": [
    "In a voting about six different cinematic genre, one must chose three out of the six following geners: \n",
    "\n",
    "1- Horror,\n",
    "\n",
    "2- Romance,\n",
    "\n",
    "3- Comedy,\n",
    "\n",
    "4- History,\n",
    "\n",
    "5- Adventure,\n",
    "\n",
    "6- Action\n",
    "\n",
    "Write a Python program to recieve the number of attended persons, and the name of each person with three geners he (she) is interested to, and then print out the number of persons who are interested to a each genere. If the number of those who are interested to some geners are the same, those generes must be sorted in lexicographic order in the output. \n",
    "\n",
    "Sampl Input: \n",
    "\n",
    "```\n",
    "4 \n",
    "hossein Horror Romance Comedy\n",
    "mohsen Horror Action Comedy\n",
    "mina Adventure Action History\n",
    "sajjad Romance History Action\n",
    "```\n",
    "\n",
    "Sample Output:\n",
    "\n",
    "```\n",
    "Action : 3\n",
    "Comedy : 2\n",
    "History : 2\n",
    "Horror : 2\n",
    "Romance : 2\n",
    "Adventure : 1\n",
    "```"
   ]
  },
  {
   "cell_type": "code",
   "execution_count": 94,
   "metadata": {},
   "outputs": [
    {
     "name": "stdout",
     "output_type": "stream",
     "text": [
      "4\n",
      "hossein Horror Romance Comedy\n",
      "mohsen Horror Action Comedy\n",
      "mina Adventure Action History\n",
      "sajjad Romance History Action\n",
      "Action : 3\n",
      "Comedy : 2\n",
      "History : 2\n",
      "Horror : 2\n",
      "Romance : 2\n",
      "Adventure : 1\n"
     ]
    }
   ],
   "source": [
    "n = int(input())\n",
    "votes = dict()\n",
    "geners = [\"Horror\", \"Romance\", \"Comedy\", \"History\", \"Adventure\", \"Action\"]\n",
    "for i in range(n):\n",
    "    person_interests = input()\n",
    "    person_interests = person_interests.split(\" \")    \n",
    "    for j in range(3):        \n",
    "        votes[person_interests[j + 1]] = votes.get(person_interests[j + 1], 0) + 1\n",
    "votes = [(geners[i], votes.get(geners[i], 0)) for i in range(6)]\n",
    "votes = sorted(votes, key = lambda v : v[1], reverse = True)\n",
    "###### can be reduced ####\n",
    "for j in range(5, 1, -1):\n",
    "    for i in range(j):\n",
    "        if votes[i][1] == votes[i + 1][1]:\n",
    "            if votes[i][0] > votes[i + 1][0]:\n",
    "                votes[i + 1], votes[i] = votes[i], votes[i + 1]\n",
    "##########################            \n",
    "for v in votes:\n",
    "    print(\"%s : %d\" % (v[0], v[1]))"
   ]
  },
  {
   "cell_type": "markdown",
   "metadata": {},
   "source": [
    "<a name=problem4-1></a>\n",
    "# Problem 4-1"
   ]
  },
  {
   "cell_type": "code",
   "execution_count": 25,
   "metadata": {},
   "outputs": [
    {
     "name": "stdout",
     "output_type": "stream",
     "text": [
      "AhmadMaster\n"
     ]
    }
   ],
   "source": []
  },
  {
   "cell_type": "markdown",
   "metadata": {},
   "source": [
    "<a name=chapter2></a>\n",
    "# Chapter 2 - Object-Oriented Programming (OOP) With Python"
   ]
  },
  {
   "cell_type": "markdown",
   "metadata": {},
   "source": [
    "<a name=problem1-2></a>\n",
    "## Problem 1-2"
   ]
  },
  {
   "cell_type": "markdown",
   "metadata": {},
   "source": [
    "Let's say we are given the weights, heights, and ages of the students of two classes A, and B. Write a Python program to compare these classes according to the average height of students. If the average height is the same, compare them based on the average of weights, and if the weight averages are the same too, the word `same` must be printed out. A sample input and output is as follows: \n",
    "\n",
    "```\n",
    "5\n",
    "16 17 15 16 17\n",
    "180 175 172 170 165\n",
    "67 72 59 62 55\n",
    "5\n",
    "15 17 16 15 16\n",
    "166 156 168 170 162\n",
    "45 52 56 58 47\n",
    "```\n",
    "\n",
    "```\n",
    "16.2\n",
    "172.4\n",
    "63.0\n",
    "15.8\n",
    "164.4\n",
    "51.6\n",
    "A\n",
    "```"
   ]
  },
  {
   "cell_type": "code",
   "execution_count": 19,
   "metadata": {},
   "outputs": [
    {
     "name": "stdout",
     "output_type": "stream",
     "text": [
      "3\n",
      "15 17 14\n",
      "156 162 168\n",
      "45 52 48\n",
      "3\n",
      "16 17 15\n",
      "175 180 178\n",
      "65 72 68\n",
      "15.333333333333334\n",
      "162.0\n",
      "48.333333333333336\n",
      "16.0\n",
      "177.66666666666666\n",
      "68.33333333333333\n",
      "B\n"
     ]
    }
   ],
   "source": [
    "class student_class:\n",
    "    count = 0\n",
    "    def __init__(self, num_of_students):\n",
    "        self.num_of_students = num_of_students        \n",
    "    def set_ages(self) :\n",
    "        ages = input()\n",
    "        self.ages = map(float, ages.split(\" \"))\n",
    "        \n",
    "    def set_heights(self):\n",
    "        heights = input()\n",
    "        self.heights = map(float, heights.split(\" \"))\n",
    "        \n",
    "    def set_weights(self):\n",
    "        weights = input()\n",
    "        weights = map(float, weights.split(\" \"))\n",
    "        self.weights = weights\n",
    "        \n",
    "    def get_average_age(self):\n",
    "        avg_sum = sum(self.ages)\n",
    "        self.average_age = avg_sum / self.num_of_students    \n",
    "        return self.average_age\n",
    "    \n",
    "    def get_average_height(self):\n",
    "        height_sum = sum(self.heights)\n",
    "        self.average_height = height_sum / self.num_of_students\n",
    "        return self.average_height\n",
    "    \n",
    "    def get_average_weight(self):\n",
    "        weight_sum = sum(self.weights)\n",
    "        self.average_weight = weight_sum / self.num_of_students\n",
    "        return self.average_weight\n",
    "    def compare(self):\n",
    "        pass\n",
    "    \n",
    "num_of_students_a = int(input())\n",
    "class_a = student_class(num_of_students_a)\n",
    "class_a.set_ages()\n",
    "class_a.set_heights()\n",
    "class_a.set_weights()\n",
    "\n",
    "num_of_students_b = int(input())\n",
    "class_b = student_class(num_of_students_b)\n",
    "class_b.set_ages()\n",
    "class_b.set_heights()\n",
    "class_b.set_weights()\n",
    "\n",
    "a_avg_age = class_a.get_average_age()\n",
    "a_avg_height = class_a.get_average_height()\n",
    "a_avg_weight = class_a.get_average_weight()\n",
    "\n",
    "b_avg_age = class_b.get_average_age()\n",
    "b_avg_height = class_b.get_average_height()\n",
    "b_avg_weight = class_b.get_average_weight()\n",
    "\n",
    "print(\"%s\" % a_avg_age)\n",
    "print(\"%s\" % a_avg_height)\n",
    "print(\"%s\" % a_avg_weight)\n",
    "print(\"%s\" % b_avg_age)\n",
    "print(\"%s\" % b_avg_height)\n",
    "print(\"%s\" % b_avg_weight)\n",
    "\n",
    "if (a_avg_height > b_avg_height):\n",
    "    print(\"A\")\n",
    "elif (a_avg_height == b_avg_height):\n",
    "    if (a_avg_weight < b_avg_weight):\n",
    "        print(\"A\")\n",
    "    elif (a_avg_weight == b_avg_weight):\n",
    "        print(\"Same\")\n",
    "    else: \n",
    "        print(\"B\")\n",
    "else:\n",
    "    print(\"B\")"
   ]
  },
  {
   "cell_type": "markdown",
   "metadata": {},
   "source": [
    "<a name=problem2-2></a>\n",
    "## Problem 2-2"
   ]
  },
  {
   "cell_type": "markdown",
   "metadata": {},
   "source": [
    "Write a Python program to receive the birth date of a person and calculate his (or her) age. The input format is `yyyy/mm/dd` and, this program print out `WRONG` when the input birth date is a wrong date. \n",
    "\n",
    "Sample input:\n",
    "```\n",
    "1995/02/03\n",
    "```\n",
    "Sample output: \n",
    "```\n",
    "23\n",
    "```\n",
    "\n",
    "Hint : you can use the datetime library"
   ]
  },
  {
   "cell_type": "code",
   "execution_count": 66,
   "metadata": {},
   "outputs": [
    {
     "name": "stdout",
     "output_type": "stream",
     "text": [
      "1995/02/03\n",
      "24\n"
     ]
    }
   ],
   "source": [
    "from datetime import datetime\n",
    "todays_date = datetime.now()\n",
    "birth_date = input()\n",
    "birth_year = int(birth_date.split(\"/\")[0])\n",
    "birth_month = int(birth_date.split(\"/\")[1])\n",
    "birth_day = int(birth_date.split(\"/\")[2])\n",
    "if (birth_month > 12):\n",
    "    print(\"WRONG\")\n",
    "elif (birth_day > 31):\n",
    "    print(\"WRONG\")\n",
    "else:\n",
    "    birth_date = datetime(birth_year, birth_month, birth_day)\n",
    "    age = todays_date - birth_date\n",
    "    age = age.days // 365\n",
    "    print(age)"
   ]
  },
  {
   "cell_type": "markdown",
   "metadata": {},
   "source": [
    "<a name=\"parallel_programming\"></a>\n",
    "# Chapter 3 - Parallel Programming in Python"
   ]
  },
  {
   "cell_type": "markdown",
   "metadata": {},
   "source": [
    "<a name=\"problem1-3\"></a>\n",
    "## Problem 1-3"
   ]
  },
  {
   "cell_type": "markdown",
   "metadata": {},
   "source": [
    "Build a list of random integer numbers, and make them squared in parallel."
   ]
  },
  {
   "cell_type": "code",
   "execution_count": 32,
   "metadata": {},
   "outputs": [
    {
     "name": "stdout",
     "output_type": "stream",
     "text": [
      "process id: Process-569\n",
      "process id: Process-570\n",
      "process id: Process-571\n",
      "process id: Process-572\n",
      "process id: Process-573\n",
      "process id: Process-574\n",
      "process id: Process-575\n",
      "process id: Process-576\n"
     ]
    }
   ],
   "source": [
    "import platform\n",
    "from random import seed, randint\n",
    "from time import time\n",
    "from multiprocessing import Process, current_process, cpu_count\n",
    "\n",
    "# Geeting the number of cores\n",
    "num_of_cores = cpu_count()\n",
    "\n",
    "# Constructing a random sequence\n",
    "seed(time())\n",
    "min_member = 0\n",
    "max_member = 100\n",
    "seq_length  = num_of_cores * 4\n",
    "seq = [randint(min_member, max_member) for _ in range(seq_length)]\n",
    "subseq_length = seq_length // num_of_cores\n",
    "sub_seq = [[seq[i] for i in range(j*subseq_length, (j + 1)*subseq_length)] for j in range(num_of_cores)]\n",
    "\n",
    "    \n",
    "def square(int_list):    \n",
    "    \n",
    "    pid = current_process().name    \n",
    "    output = []*(len(int_list))    \n",
    "    for x in int_list:\n",
    "        output.append(x**2)\n",
    "    print(f\"process id: {pid}\")\n",
    "    return output\n",
    "\n",
    "# Setup a list of processes that we want to run\n",
    "processes = [Process(target = square, args = (sub_seq[i], )) for i in range(num_of_cores)]\n",
    "\n",
    "# Run processes\n",
    "for pr in processes:\n",
    "    pr.start()\n",
    "\n",
    "# Exit the completed processes\n",
    "for pr in processes:\n",
    "    pr.join()"
   ]
  },
  {
   "cell_type": "code",
   "execution_count": 61,
   "metadata": {},
   "outputs": [
    {
     "name": "stdout",
     "output_type": "stream",
     "text": [
      "process id: ForkPoolWorker-745\n",
      "process id: ForkPoolWorker-746\n",
      "process id: ForkPoolWorker-747\n",
      "process id: ForkPoolWorker-748\n",
      "process id: ForkPoolWorker-749\n",
      "process id: ForkPoolWorker-750\n",
      "process id: ForkPoolWorker-751\n",
      "process id: ForkPoolWorker-752\n",
      "[[225, 1764, 3136, 100], [3136, 5476, 3249, 1225], [5041, 169, 1156, 3721], [2704, 3969, 3136, 3364], [1849, 4900, 2500, 4], [9409, 6561, 1, 4900], [4096, 8100, 2401, 5476], [729, 7225, 8649, 7744]]\n",
      "elapsed time : 0.15274930000305176\n"
     ]
    }
   ],
   "source": [
    "from multiprocessing import Pool\n",
    "from time import time\n",
    "# Geeting the number of cores\n",
    "num_of_cores = cpu_count()\n",
    "\n",
    "# Constructing a random sequence\n",
    "seed(time())\n",
    "min_member = 0\n",
    "max_member = 100\n",
    "seq_length  = num_of_cores * 4\n",
    "seq = [randint(min_member, max_member) for _ in range(seq_length)]\n",
    "subseq_length = seq_length // num_of_cores\n",
    "sub_seq = [[seq[i] for i in range(j*subseq_length, (j + 1)*subseq_length)] for j in range(num_of_cores)]\n",
    "\n",
    "def square(int_list):    \n",
    "    \n",
    "    pid = current_process().name    \n",
    "    output = []*(len(int_list))    \n",
    "    for x in int_list:\n",
    "        output.append(x**2)\n",
    "    print(f\"process id: {pid}\")\n",
    "    return output\n",
    "start_time = time()\n",
    "with Pool(num_of_cores) as pool:\n",
    "    results = [pool.apply(square, (sub_seq[i], )) for i in range(num_of_cores)]\n",
    "elapsed_time = time() - start_time\n",
    "print(results)\n",
    "print(f\"elapsed time : {elapsed_time}\")"
   ]
  },
  {
   "cell_type": "code",
   "execution_count": null,
   "metadata": {},
   "outputs": [],
   "source": []
  }
 ],
 "metadata": {
  "kernelspec": {
   "display_name": "Python 3",
   "language": "python",
   "name": "python3"
  },
  "language_info": {
   "codemirror_mode": {
    "name": "ipython",
    "version": 3
   },
   "file_extension": ".py",
   "mimetype": "text/x-python",
   "name": "python",
   "nbconvert_exporter": "python",
   "pygments_lexer": "ipython3",
   "version": "3.6.8"
  }
 },
 "nbformat": 4,
 "nbformat_minor": 2
}
